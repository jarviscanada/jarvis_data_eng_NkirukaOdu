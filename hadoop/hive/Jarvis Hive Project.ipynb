﻿{
  "metadata": {
    "name": "Jarvis Hive Project",
    "kernelspec": {
      "language": "scala",
      "name": "spark2-scala"
    },
    "language_info": {
      "codemirror_mode": "text/x-scala",
      "file_extension": ".scala",
      "mimetype": "text/x-scala",
      "name": "scala",
      "pygments_lexer": "scala"
    }
  },
  "nbformat": 4,
  "nbformat_minor": 2,
  "cells": [
    {
      "cell_type": "markdown",
      "metadata": {},
      "source": "# Query GS data\n- Create a hive table (`wdi_gs`) against the gs wdi_2016 data\n- Count number of rows from `wdi_gs` table"
    },
    {
      "cell_type": "code",
      "execution_count": 1,
      "metadata": {
        "autoscroll": "auto"
      },
      "outputs": [],
      "source": "%hive\nDROP TABLE IF EXISTS wdi_gs\n"
    },
    {
      "cell_type": "code",
      "execution_count": 2,
      "metadata": {
        "autoscroll": "auto"
      },
      "outputs": [],
      "source": "%hive\nCREATE EXTERNAL TABLE wdi_gs (\nyear INTEGER,\ncountryName STRING, \ncountryCode STRING, \nindicatorName STRING, \nindicatorCode STRING,\nindicatorValue FLOAT)\nROW FORMAT DELIMITED FIELDS TERMINATED BY \u0027,\u0027 \nLINES TERMINATED BY \u0027\\n\u0027\nLOCATION \u0027gs://jarvis_dataeng_nkiruka/datasets/wdi_2016\u0027\nTBLPROPERTIES (\"skip.header.line.count\"\u003d\"1\")"
    },
    {
      "cell_type": "code",
      "execution_count": 3,
      "metadata": {
        "autoscroll": "auto"
      },
      "outputs": [],
      "source": "-- show table meta data\nDESCRIBE FORMATTED wdi_gs"
    },
    {
      "cell_type": "code",
      "execution_count": 4,
      "metadata": {
        "autoscroll": "auto"
      },
      "outputs": [],
      "source": "-- counts the number of rows from wdi_gs table\nSELECT count(countryName) FROM wdi_gs"
    },
    {
      "cell_type": "markdown",
      "metadata": {},
      "source": "# Load GS Data to HDFS\n- Create an external table, called wdi_csv_text\n- Run and insert overwrite query that loads data from wdi_gs table to wdi_csv_text table\n- Check HDFS file size for wdi_csv_text file using bash command"
    },
    {
      "cell_type": "code",
      "execution_count": 6,
      "metadata": {
        "autoscroll": "auto"
      },
      "outputs": [],
      "source": "DROP TABLE IF EXISTS wdi_csv_text"
    },
    {
      "cell_type": "code",
      "execution_count": 7,
      "metadata": {
        "autoscroll": "auto"
      },
      "outputs": [],
      "source": "-- Create Table wdi_csv_text\nCREATE EXTERNAL TABLE wdi_csv_text\n(year INTEGER, countryName STRING, countryCode STRING, indicatorName STRING, indicatorCode STRING, indicatorValue FLOAT)\nROW FORMAT DELIMITED FIELDS TERMINATED BY \u0027,\u0027 LINES TERMINATED BY \u0027\\n\u0027\nLOCATION \u0027hdfs:///user/nkiruka/hive/wdi/wdi_csv_text\u0027\nTBLPROPERTIES (\"skip.header.line.count\"\u003d\"1\")"
    },
    {
      "cell_type": "code",
      "execution_count": 8,
      "metadata": {
        "autoscroll": "auto"
      },
      "outputs": [],
      "source": "INSERT OVERWRITE TABLE wdi_csv_text\nSELECT * FROM wdi_gs"
    },
    {
      "cell_type": "code",
      "execution_count": 9,
      "metadata": {
        "autoscroll": "auto"
      },
      "outputs": [],
      "source": "-- Count the rows on wdi_csv_text table\nSELECT count(countryName)\nFROM wdi_csv_text"
    },
    {
      "cell_type": "code",
      "execution_count": 10,
      "metadata": {
        "autoscroll": "auto"
      },
      "outputs": [],
      "source": "%sh\nhdfs dfs -ls -h /user/nkiruka/hive/wdi/wdi_csv_text"
    },
    {
      "cell_type": "code",
      "execution_count": 11,
      "metadata": {
        "autoscroll": "auto"
      },
      "outputs": [],
      "source": "%sh\nhdfs dfs -du -s -h /user/nkiruka/hive/wdi/wdi_csv_text"
    },
    {
      "cell_type": "markdown",
      "metadata": {},
      "source": "# Running the count statement(observation) and Reason for change in Execution time\n- Running the query for the first time, took 1min and 13sec\n- Running the same count statement again, took 0.599sec because this task is already saved on the file system cache so it doesn\u0027t need to be read from the disk\n- After clearning the cache for both master and the workers node from ssh, the count statement was ran again and this time, it took 28secs"
    },
    {
      "cell_type": "code",
      "execution_count": 13,
      "metadata": {
        "autoscroll": "auto"
      },
      "outputs": [],
      "source": "%sh\nfree -m"
    },
    {
      "cell_type": "code",
      "execution_count": 14,
      "metadata": {
        "autoscroll": "auto"
      },
      "outputs": [],
      "source": "-- After clearing the Cache\nSELECT count(countryName) \nFROM wdi_csv_text\n"
    },
    {
      "cell_type": "markdown",
      "metadata": {},
      "source": "# Hive vs Bash\n### Observation on performance result between the bash and Hive approaches \n- Copy wdi_csv_text HDFS file to the master node and count number of rows\n- It took longer time using Hive appraoch than using bash command"
    },
    {
      "cell_type": "code",
      "execution_count": 16,
      "metadata": {
        "autoscroll": "auto"
      },
      "outputs": [],
      "source": "%sh\ncd ~\nhdfs dfs -get hdfs:///user/nkiruka/hive/wdi/wdi_csv_text\ncd wdi_csv_text\n\ndu -ch\necho 3 | sudo tee /proc/sys/vm/drop_caches\n\ndate +%s \u0026\u0026 cat * | wc \u0026\u0026 date +%s\n"
    },
    {
      "cell_type": "markdown",
      "metadata": {},
      "source": "# Parsing Issue\n- SerDe treats all columns to be of type String\n- The output from the query is not showing the desired result\n- Creating another table without formatting with Serde"
    },
    {
      "cell_type": "code",
      "execution_count": 18,
      "metadata": {
        "autoscroll": "auto"
      },
      "outputs": [],
      "source": "SELECT distinct(indicatorcode)\nFROM wdi_csv_text\nORDER BY indicatorcode\nLIMIT 20;"
    },
    {
      "cell_type": "code",
      "execution_count": 19,
      "metadata": {
        "autoscroll": "auto"
      },
      "outputs": [],
      "source": "DROP TABLE IF EXISTS wdi_gs_debug"
    },
    {
      "cell_type": "code",
      "execution_count": 20,
      "metadata": {
        "autoscroll": "auto"
      },
      "outputs": [],
      "source": "-- Create an external table\nCREATE EXTERNAL TABLE wdi_gs_debug\n(line STRING)\nLOCATION \u0027gs://jarvis_dataeng_nkiruka/datasets/wdi_2016\u0027\nTBLPROPERTIES (\"skip.header.line.count\"\u003d\"1\")\n"
    },
    {
      "cell_type": "code",
      "execution_count": 21,
      "metadata": {
        "autoscroll": "auto"
      },
      "outputs": [],
      "source": "%hive\nSelect * from wdi_gs_debug\nWHERE line like \"%\\(\\% of urban population\\)\\\"%\""
    },
    {
      "cell_type": "markdown",
      "metadata": {},
      "source": " \n# Creating a Table with OpenCSV SerDe"
    },
    {
      "cell_type": "code",
      "execution_count": 23,
      "metadata": {
        "autoscroll": "auto"
      },
      "outputs": [],
      "source": "%hive\nDROP TABLE IF EXISTS wdi_opencsv_gs"
    },
    {
      "cell_type": "code",
      "execution_count": 24,
      "metadata": {
        "autoscroll": "auto"
      },
      "outputs": [],
      "source": "%hive\nCREATE EXTERNAL TABLE wdi_opencsv_gs\n(year INTEGER, countryName STRING, countryCode STRING, indicatorName STRING, indicatorCode STRING, indicatorValue FLOAT)\nROW FORMAT SERDE \u0027org.apache.hadoop.hive.serde2.OpenCSVSerde\u0027\nLOCATION \u0027gs://jarvis_dataeng_nkiruka/datasets/wdi_2016\u0027\nTBLPROPERTIES (\"skip.header.line.count\"\u003d\"1\")"
    },
    {
      "cell_type": "code",
      "execution_count": 25,
      "metadata": {
        "autoscroll": "auto"
      },
      "outputs": [],
      "source": "%hive\nDROP TABLE IF EXISTS wdi_opencsv_text\n"
    },
    {
      "cell_type": "code",
      "execution_count": 26,
      "metadata": {
        "autoscroll": "auto"
      },
      "outputs": [],
      "source": "%hive\nCREATE EXTERNAL TABLE wdi_opencsv_text\n(year INTEGER, countryName STRING, countryCode STRING, indicatorName STRING, indicatorCode STRING, indicatorValue FLOAT)\nROW FORMAT SERDE \u0027org.apache.hadoop.hive.serde2.OpenCSVSerde\u0027\nLOCATION \u0027hdfs:///user/nkiruka/hive/wdi/wdi_opencsv_text\u0027\nTBLPROPERTIES (\"skip.header.line.count\"\u003d\"1\")"
    },
    {
      "cell_type": "code",
      "execution_count": 27,
      "metadata": {
        "autoscroll": "auto"
      },
      "outputs": [],
      "source": "%hive\nINSERT OVERWRITE TABLE wdi_opencsv_text\nSELECT * FROM wdi_opencsv_gs"
    },
    {
      "cell_type": "code",
      "execution_count": 28,
      "metadata": {
        "autoscroll": "auto"
      },
      "outputs": [],
      "source": "%hive\nSELECT distinct(indicatorcode)\nFROM wdi_opencsv_text\nORDER BY indicatorcode\nLIMIT 20;"
    },
    {
      "cell_type": "code",
      "execution_count": 29,
      "metadata": {
        "autoscroll": "auto"
      },
      "outputs": [],
      "source": "%hive\nSELECT count(countryName)\nFROM wdi_opencsv_text"
    },
    {
      "cell_type": "code",
      "execution_count": 30,
      "metadata": {
        "autoscroll": "auto"
      },
      "outputs": [],
      "source": "%hive\nSELECT count(countryName)\nFROM wdi_csv_text"
    },
    {
      "cell_type": "markdown",
      "metadata": {},
      "source": "# Compare execution time between wdi_opencsv_text and wdi_csv_text\n-  wdi_opencsv_text took 1min27 sec to execute while wdi_csv_textz took 27sec to execute\n-  wdi_opencsv_text was slower \n"
    },
    {
      "cell_type": "code",
      "execution_count": 32,
      "metadata": {
        "autoscroll": "auto"
      },
      "outputs": [],
      "source": "%hive\nDESCRIBE FORMATTED wdi_opencsv_text\n"
    },
    {
      "cell_type": "code",
      "execution_count": 33,
      "metadata": {
        "autoscroll": "auto"
      },
      "outputs": [],
      "source": "%hive\nDESCRIBE FORMATTED wdi_csv_text"
    },
    {
      "cell_type": "markdown",
      "metadata": {},
      "source": "# compare describe formatted wdi_csv_text and describe formatted wdi_opencsv_text\n- This SerDe treats all columns to be of type String. Even if a table is created with non-string column types using this SerDe, the DESCRIBE TABLE output would show string column type\n- That\u0027s the reason behined the change in the column types\n- To convert columns to the desired type in a table, you can create a view over the table that does the CAST to the desired type."
    },
    {
      "cell_type": "code",
      "execution_count": 35,
      "metadata": {
        "autoscroll": "auto"
      },
      "outputs": [],
      "source": "%hive\nDROP VIEW IF EXISTS wdi_opencsv_text_view"
    },
    {
      "cell_type": "code",
      "execution_count": 36,
      "metadata": {
        "autoscroll": "auto"
      },
      "outputs": [],
      "source": "%hive\nCREATE VIEW IF NOT EXISTS wdi_opencsv_text_view\nAS\nSELECT CAST(year as integer), countryName, countryCode, indicatorName, indicatorCode,CAST(indicatorvalue as float)\nfrom wdi_opencsv_text\n"
    },
    {
      "cell_type": "markdown",
      "metadata": {},
      "source": "# 2015 Canada GDP Growth HQL\n- Running the query to select 2015 Canada GDP growth took 1min 21sec and can be improved using dynamic partition\n- Partitioning wdi table executed faster for 22sec\n"
    },
    {
      "cell_type": "code",
      "execution_count": 38,
      "metadata": {
        "autoscroll": "auto"
      },
      "outputs": [],
      "source": "%hive\nSelect indicatorValue As GDP_growth_value, year, countryName\nfrom wdi_opencsv_text_view\nwhere indicatorName like \u0027%GDP growth%\u0027  and year \u003d \u00272015\u0027 and countryName \u003d \u0027Canada\u0027"
    },
    {
      "cell_type": "markdown",
      "metadata": {},
      "source": "# why 2015 Canada GDP query took so long to execute?\n- It has to query a lot of rows to get a match from the select statement\n- Resolved by creating a partition"
    },
    {
      "cell_type": "code",
      "execution_count": 40,
      "metadata": {
        "autoscroll": "auto"
      },
      "outputs": [],
      "source": "%hive\n-- drop TABLE wdi_opencsv_text_partitions\ndrop TABLE IF EXISTS wdi_opencsv_text_partitions\n"
    },
    {
      "cell_type": "code",
      "execution_count": 41,
      "metadata": {
        "autoscroll": "auto"
      },
      "outputs": [],
      "source": "%hive\ncreate EXTERNAL TABLE wdi_opencsv_text_partitions\n(countryName STRING, countryCode STRING, indicatorName STRING, indicatorCode STRING, indicatorValue FLOAT)\nPARTITIONED BY (YEAR INTEGER)\nROW FORMAT SERDE \u0027org.apache.hadoop.hive.serde2.OpenCSVSerde\u0027\nWITH SERDEPROPERTIES (\n   \"separatorChar\" \u003d \"\\t\",\n   \"quoteChar\"     \u003d \"\u0027\",\n   \"escapeChar\"    \u003d \"\\\\\"\n) \nLOCATION \u0027hdfs:///user/nkiruka/hive/wdi/wdi_opencsv_text_partitions\u0027"
    },
    {
      "cell_type": "code",
      "execution_count": 42,
      "metadata": {
        "autoscroll": "auto"
      },
      "outputs": [],
      "source": "%hive\nset hive.exec.dynamic.partition.mode\u003dnonstrict;"
    },
    {
      "cell_type": "code",
      "execution_count": 43,
      "metadata": {
        "autoscroll": "auto"
      },
      "outputs": [],
      "source": "%hive\ninsert overwrite table wdi_opencsv_text_partitions\nselect countryName, countryCode, indicatorName, indicatorCode, indicatorValue, year\nfrom wdi_opencsv_text"
    },
    {
      "cell_type": "code",
      "execution_count": 44,
      "metadata": {
        "autoscroll": "auto"
      },
      "outputs": [],
      "source": "%hive\nSelect indicatorValue As GDP_growth_value, year, countryName\nfrom  wdi_opencsv_text_partitions\nwhere indicatorName like \u0027%GDP growth%\u0027  and year \u003d \u00272015\u0027 and countryName \u003d \u0027Canada\u0027"
    },
    {
      "cell_type": "markdown",
      "metadata": {},
      "source": "# Columnar File Optimization\n- create a table wdi_csv_parquet\n- Compare file sizes between wdi_csv_parquet and wdi_opencsv_text"
    },
    {
      "cell_type": "code",
      "execution_count": 46,
      "metadata": {
        "autoscroll": "auto"
      },
      "outputs": [],
      "source": "%hive\ndrop table if exists wdi_csv_parquet\n"
    },
    {
      "cell_type": "code",
      "execution_count": 47,
      "metadata": {
        "autoscroll": "auto"
      },
      "outputs": [],
      "source": "%hive\ncreate external table wdi_csv_parquet\n(year INTEGER, countryName STRING, countryCode STRING, indicatorName STRING, indicatorCode STRING, indicatorValue FLOAT)\nSTORED AS PARQUET\nlocation \u0027hdfs:///user/nkiruka/hive/wdi/wdi_csv_parquet\u0027"
    },
    {
      "cell_type": "code",
      "execution_count": 48,
      "metadata": {
        "autoscroll": "auto"
      },
      "outputs": [],
      "source": "%hive\n-- Load data from wdi_opencsv_gs to wdi_csv_parquet\ninsert overwrite table wdi_csv_parquet\nselect * from  wdi_opencsv_gs"
    },
    {
      "cell_type": "markdown",
      "metadata": {},
      "source": "# Compare file sizes between wdi_csv_parquet and wdi_opencsv_text\n- wdi_csv_parquet has a file size of 137.2M\n- wdi_opencsv_text has a file size of 2.3G"
    },
    {
      "cell_type": "code",
      "execution_count": 50,
      "metadata": {
        "autoscroll": "auto"
      },
      "outputs": [],
      "source": "%sh\nhdfs dfs -du -s -h /user/nkiruka/hive/wdi/wdi_csv_parquet"
    },
    {
      "cell_type": "code",
      "execution_count": 51,
      "metadata": {
        "autoscroll": "auto"
      },
      "outputs": [],
      "source": "%sh\nhdfs dfs -du -s -h /user/nkiruka/hive/wdi/wdi_opencsv_text"
    },
    {
      "cell_type": "markdown",
      "metadata": {},
      "source": "# Compare runtime of executing a query between wdi_csv_parquet and wdi_opencsv_text\n- wdi_csv_parquet took 24sec to execute\n- wdi_opencsv_text took 1min 27sec to execute, shows that execution time was shorter on wdi_csv_parquet table"
    },
    {
      "cell_type": "code",
      "execution_count": 53,
      "metadata": {
        "autoscroll": "auto"
      },
      "outputs": [],
      "source": "%hive\nselect count(countryName)\nfrom wdi_csv_parquet"
    },
    {
      "cell_type": "code",
      "execution_count": 54,
      "metadata": {
        "autoscroll": "auto"
      },
      "outputs": [],
      "source": "%hive\nselect count(countryName)\nfrom wdi_opencsv_text"
    },
    {
      "cell_type": "markdown",
      "metadata": {},
      "source": "# Compare the performance of executing the same query to get the 2015 Canada GDP growth on both tables \n- it took 29sec to execute the query for 2015 canada GDP growth on wdi_csv_parquet table\n- it took 1min 27 sec to execute the query for 2015 Canada GDP growth on wdi_opencsv_text table\n"
    },
    {
      "cell_type": "code",
      "execution_count": 56,
      "metadata": {
        "autoscroll": "auto"
      },
      "outputs": [],
      "source": "%hive\nSelect indicatorValue As GDP_growth_value, year, countryName\nfrom wdi_csv_parquet\nwhere indicatorName like \u0027%GDP growth%\u0027  and year \u003d \u00272015\u0027 and countryName \u003d \u0027Canada\u0027"
    },
    {
      "cell_type": "code",
      "execution_count": 57,
      "metadata": {
        "autoscroll": "auto"
      },
      "outputs": [],
      "source": "%hive\nSelect indicatorValue As GDP_growth_value, year, countryName\nfrom wdi_opencsv_text\nwhere indicatorName like \u0027%GDP growth%\u0027  and year \u003d \u00272015\u0027 and countryName \u003d \u0027Canada\u0027"
    },
    {
      "cell_type": "markdown",
      "metadata": {},
      "source": " \n# Highest GDP Growth\n- Find the highest GDP growth (NY.GDP.MKTP.KD.ZG) year for each country\n- Execute the same query using SparkSQL\n- Compare the execution time with the Hive Tez query\n- Hive took 1min 20sec and sparksql took 22sec, this showed better performance with sparksql"
    },
    {
      "cell_type": "code",
      "execution_count": 59,
      "metadata": {
        "autoscroll": "auto"
      },
      "outputs": [],
      "source": "%hive\nselect parquet1.indicatorValue GDP_growth_value, parquet1.year, parquet1.countryName\nfrom wdi_csv_parquet parquet1,\n(\nselect countryName,  max(indicatorValue) max_GDP\nfrom wdi_csv_parquet parquet2\nwhere indicatorcode \u003d \u0027NY.GDP.MKTP.KD.ZG\u0027 \ngroup by countryName\n) parquet2\nwhere \nparquet1.countryName \u003d parquet2.countryName and \nparquet1.indicatorvalue \u003d max_GDP and  \nparquet1.indicatorValue!\u003d \u00270.0\u0027"
    },
    {
      "cell_type": "code",
      "execution_count": 60,
      "metadata": {
        "autoscroll": "auto"
      },
      "outputs": [],
      "source": "%spark.sql\nshow tables"
    },
    {
      "cell_type": "code",
      "execution_count": 61,
      "metadata": {
        "autoscroll": "auto"
      },
      "outputs": [],
      "source": "%spark.sql\nselect parquet1.indicatorValue GDP_growth_value, parquet1.year, parquet1.countryName\nfrom wdi_csv_parquet parquet1,\n(\nselect countryName,  max(indicatorValue) max_GDP\nfrom wdi_csv_parquet parquet2\nwhere indicatorcode \u003d \u0027NY.GDP.MKTP.KD.ZG\u0027 \ngroup by countryName\n) parquet2\nwhere \nparquet1.countryName \u003d parquet2.countryName and \nparquet1.indicatorvalue \u003d max_GDP and  \nparquet1.indicatorValue!\u003d \u00270.0\u0027"
    },
    {
      "cell_type": "markdown",
      "metadata": {},
      "source": " \n# Sort GDP by country and year\n- GDP Growth for all coutries, sort by countryName and year."
    },
    {
      "cell_type": "code",
      "execution_count": 63,
      "metadata": {
        "autoscroll": "auto"
      },
      "outputs": [],
      "source": "%hive\nselect \n countryName,year, indicatorcode,  indicatorvalue\nfrom wdi_csv_parquet\nwhere indicatorcode \u003d \u0027NY.GDP.MKTP.KD.ZG\u0027\nsort by countryName, year\n"
    }
  ]
}